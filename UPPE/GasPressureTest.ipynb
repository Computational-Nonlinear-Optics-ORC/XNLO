{
 "cells": [
  {
   "cell_type": "markdown",
   "metadata": {},
   "source": [
    "double keldysh_gas::atom_density(double z, double inlet_1, double inlet_2, double transitionLength) {\n",
    "    if (z >= inlet_1 && z <= inlet_2) {\n",
    "        return atom_density_max;\n",
    "    } else if (z < inlet_1 - transitionLength) {\n",
    "        // ramp function up to 80%\n",
    "        return atom_density_max*(z/(inlet_1 - transitionLength)) * 0.8\n",
    "    } else if (z >= inlet_1 - transitionLength && z < inlet_1) {\n",
    "        // step up from 80% to 100%\n",
    "        return atom_density_max * (0.8 + 0.2*(z - (inlet_1 - transitionLength)) / (transitionLength))\n",
    "    } else if (z > inlet_2 * 1.01) {\n",
    "        // ramp down from 80% to 0%\n",
    "        elif z > inlet_2 + transitionLength && z <= z_max:\n",
    "        return atom_density_max * (1 - ((z - inlet_2)/(transitionLength)) * 0.2)\n",
    "    } else if (z > inlet_2 && z <= inlet_2 + transitionLength) {\n",
    "        // step down from 100% to 80%\n",
    "        return atom_density_max * (1 - ((z - inlet_2)/(transitionLength)) * 0.2)\n",
    "    }\n",
    "}\n",
    "\n",
    "def atom_density(z, inlet_1 = 0.02, inlet_2 = 0.07-0.02, z_max = 0.07, atom_density_max=1.0, transitionLength=0.001):\n",
    "    if z >= inlet_1 and z <= inlet_2:\n",
    "        return atom_density_max\n",
    "    elif z < inlet_1 - transitionLength:\n",
    "        return atom_density_max*(z/(inlet_1 - transitionLength)) * 0.8\n",
    "    elif z >= inlet_1 - transitionLength and z < inlet_1:\n",
    "        return atom_density_max * (0.8 + 0.2*(z - (inlet_1 - transitionLength)) / (transitionLength))\n",
    "    elif z > inlet_2 + transitionLength:\n",
    "        return atom_density_max * (1 - (z - (inlet_2 + transitionLength)) / (z_max - (inlet_2 + transitionLength))) * 0.8\n",
    "    elif z > inlet_2 + transitionLength and z <= z_max:\n",
    "        return atom_density_max * (1 - ((z - inlet_2)/(transitionLength)) * 0.2)"
   ]
  },
  {
   "cell_type": "code",
   "execution_count": 2,
   "metadata": {
    "collapsed": true
   },
   "outputs": [],
   "source": [
    "def atom_density(z, inlet_1 = 0.02, inlet_2 = 0.07-0.02, atom_density_max=1.0, transitionLength=0.001):\n",
    "    if z >= inlet_1 and z <= inlet_2:\n",
    "        return atom_density_max\n",
    "    elif z < inlet_1:\n",
    "        return atom_density_max*(z/inlet_1) * 0.8\n",
    "    elif z > inlet_2:\n",
    "        return atom_density_max * (1 - (z - inlet_2) / (0.07 - inlet_2)) * 0.8"
   ]
  },
  {
   "cell_type": "code",
   "execution_count": 11,
   "metadata": {
    "collapsed": true
   },
   "outputs": [],
   "source": [
    "def atom_density(z, inlet_1 = 0.02, inlet_2 = 0.07-0.02, atom_density_max=1.0, transitionLength=0.001):\n",
    "    if z >= inlet_1 and z <= inlet_2:\n",
    "        return atom_density_max\n",
    "    elif z < inlet_1 - transitionLength:\n",
    "        return atom_density_max*(z/(inlet_1 - transitionLength)) * 0.8\n",
    "    elif z > inlet_2 + transitionLength:\n",
    "        return atom_density_max * (1 - (z - (inlet_2 + transitionLength)) / (0.07 - (inlet_2 + transitionLength))) * 0.8"
   ]
  },
  {
   "cell_type": "code",
   "execution_count": 11,
   "metadata": {},
   "outputs": [],
   "source": [
    "def atom_density(z, inlet_1 = 0.02, inlet_2 = 0.07-0.02, z_max = 0.07, atom_density_max=1.0, transitionLength=0.001):\n",
    "    if z >= inlet_1 and z <= inlet_2:\n",
    "        return atom_density_max\n",
    "    elif z < inlet_1 - transitionLength:\n",
    "        return atom_density_max*(z/(inlet_1 - transitionLength)) * 0.8\n",
    "    elif z >= inlet_1 - transitionLength and z < inlet_1:\n",
    "        return atom_density_max * (0.8 + 0.2*(z - (inlet_1 - transitionLength)) / (transitionLength))\n",
    "    elif z > inlet_2 + transitionLength:\n",
    "        return atom_density_max * (1 - (z - (inlet_2 + transitionLength)) / (z_max - (inlet_2 + transitionLength))) * 0.8\n",
    "    elif z > inlet_2 and z <= inlet_2 + transitionLength:\n",
    "        return atom_density_max * (1 - ((z - inlet_2)/(transitionLength)) * 0.2)"
   ]
  },
  {
   "cell_type": "code",
   "execution_count": 12,
   "metadata": {
    "collapsed": true
   },
   "outputs": [],
   "source": [
    "import numpy as np\n",
    "\n",
    "z = np.linspace(0.0, 0.07, 1000)\n",
    "atomD = []\n",
    "\n",
    "for i in range(1000):\n",
    "    atomD.append(atom_density(z[i], inlet_1=0.02, inlet_2=0.05, transitionLength=0.001))"
   ]
  },
  {
   "cell_type": "code",
   "execution_count": 13,
   "metadata": {},
   "outputs": [
    {
     "data": {
      "image/png": "[encoded data removed]",
      "text/plain": [
       "<matplotlib.figure.Figure at 0x7f180aeefe48>"
      ]
     },
     "metadata": {},
     "output_type": "display_data"
    }
   ],
   "source": [
    "from matplotlib import pyplot as plt\n",
    "\n",
    "plt.figure(figsize=(12,10))\n",
    "plt.plot(z, atomD)\n",
    "plt.grid()\n",
    "plt.show()"
   ]
  },
  {
   "cell_type": "code",
   "execution_count": null,
   "metadata": {
    "collapsed": true
   },
   "outputs": [],
   "source": []
  },
  {
   "cell_type": "code",
   "execution_count": null,
   "metadata": {
    "collapsed": true
   },
   "outputs": [],
   "source": []
  }
 ],
 "metadata": {
  "kernelspec": {
   "display_name": "Python 3",
   "language": "python",
   "name": "python3"
  },
  "language_info": {
   "codemirror_mode": {
    "name": "ipython",
    "version": 3
   },
   "file_extension": ".py",
   "mimetype": "text/x-python",
   "name": "python",
   "nbconvert_exporter": "python",
   "pygments_lexer": "ipython3",
   "version": "3.6.3"
  }
 },
 "nbformat": 4,
 "nbformat_minor": 2
}
